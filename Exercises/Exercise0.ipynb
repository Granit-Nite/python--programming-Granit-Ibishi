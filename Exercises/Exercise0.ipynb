{
 "cells": [
  {
   "cell_type": "code",
   "execution_count": 16,
   "metadata": {},
   "outputs": [
    {
     "name": "stdout",
     "output_type": "stream",
     "text": [
      "5.0\n"
     ]
    }
   ],
   "source": [
    "### 1. Pythagorean theorem (*) ###\n",
    "\n",
    "#  a)   A right angled triangle has the catheti: a = 3 and b = 4 length units. Compute the hypothenuse of the triangle. (*) \n",
    "\n",
    "a = 3\n",
    "b = 4\n",
    "\n",
    "import math\n",
    "hypotenusa = math.sqrt (a**2 + b**2)\n",
    "print (hypotenusa)\n",
    "\n",
    "#b)   A right angled triangle has hypothenuse c = 7.0 and a cathetus a = 5.0 length units. Compute the other cathetus and round to one decimal. (*)\n",
    "a = (5**2)\n",
    "c = (7**2)\n",
    "\n",
    "import math\n",
    "b = math.sqrt (c-a) \n",
    "print (f\"{b:.1f}\")\n"
   ]
  },
  {
   "cell_type": "code",
   "execution_count": 2,
   "metadata": {},
   "outputs": [
    {
     "name": "stdout",
     "output_type": "stream",
     "text": [
      "The accuracy of the model is 82.19%\n"
     ]
    }
   ],
   "source": [
    "\n",
    "### 2. Classification accuracy (*) ###\n",
    "\n",
    "# A machine learning algorithm has been trained to predict whether or not it would rain the next day. \n",
    "# Out of 365 predictions, it got 300 correct, compute the accuracy of this model.\n",
    "\n",
    "Total_predection = 365\n",
    "correct_predection = 300\n",
    "\n",
    "#hur man räknar ut exakthet\n",
    "accuracy = (correct_predection/Total_predection) * 100\n",
    "\n",
    "#print accuracy \n",
    "print (f\"The accuracy of the model is {accuracy:.2f}%\")\n",
    "\n",
    "\n"
   ]
  },
  {
   "cell_type": "code",
   "execution_count": 2,
   "metadata": {},
   "outputs": [
    {
     "name": "stdout",
     "output_type": "stream",
     "text": [
      " The model is 98.7 % accurate so it is pretty good.\n"
     ]
    }
   ],
   "source": [
    "## 3. Classification accuracy (*)\n",
    "\n",
    "TP = 2\n",
    "TN = 985\n",
    "FP = 2\n",
    "FN = 11\n",
    "accuracy = (TP + TN) / (TP + TN + FP + FN)\n",
    "percentage = accuracy * 100\n",
    "print(f\" The model is {percentage} % accurate so it is pretty good.\")"
   ]
  },
  {
   "cell_type": "code",
   "execution_count": 3,
   "metadata": {},
   "outputs": [
    {
     "name": "stdout",
     "output_type": "stream",
     "text": [
      "The equation is y = 0.75x + 1\n"
     ]
    }
   ],
   "source": [
    "## 4. Line (*)\n",
    "\n",
    "x1 = 4\n",
    "x2 = 0\n",
    "y1 = 4\n",
    "y2 = 1\n",
    "k = (y2-y1) / (x2-x1)\n",
    "m = 1 \n",
    "print(f\"The equation is y = {k}x + {m}\")"
   ]
  },
  {
   "cell_type": "code",
   "execution_count": 5,
   "metadata": {},
   "outputs": [
    {
     "name": "stdout",
     "output_type": "stream",
     "text": [
      "The Euclidean distance is 5.1 length units\n"
     ]
    }
   ],
   "source": [
    "## 5. Euclidean distance (*)\n",
    "import numpy as np\n",
    "\n",
    "x1 = 3\n",
    "x2 = -2\n",
    "y1 = 5\n",
    "y2 = 4\n",
    "euclideun = np.sqrt((x2 - x1)**2 + (y2 - y1)**2)\n",
    "print(f\"The Euclidean distance is {euclideun:.1f} length units\")"
   ]
  },
  {
   "cell_type": "code",
   "execution_count": 7,
   "metadata": {},
   "outputs": [
    {
     "name": "stdout",
     "output_type": "stream",
     "text": [
      "The Euclidean distance is 4.12 length units\n"
     ]
    }
   ],
   "source": [
    "## 6. Euclidean distance in 3D (**)\n",
    "\n",
    "x1 = 2\n",
    "x2 = 3\n",
    "y1 = 1\n",
    "y2 = 1\n",
    "z1 = 4\n",
    "z2 = 0\n",
    "euclideun3d = np.sqrt((x1 - x2)**2 + (y1 - y2)**2 + (z1 - z2)**2)\n",
    "print(f\"The Euclidean distance is {euclideun3d:.2f} length units\")"
   ]
  }
 ],
 "metadata": {
  "kernelspec": {
   "display_name": "Python 3",
   "language": "python",
   "name": "python3"
  },
  "language_info": {
   "codemirror_mode": {
    "name": "ipython",
    "version": 3
   },
   "file_extension": ".py",
   "mimetype": "text/x-python",
   "name": "python",
   "nbconvert_exporter": "python",
   "pygments_lexer": "ipython3",
   "version": "3.12.5"
  }
 },
 "nbformat": 4,
 "nbformat_minor": 2
}
