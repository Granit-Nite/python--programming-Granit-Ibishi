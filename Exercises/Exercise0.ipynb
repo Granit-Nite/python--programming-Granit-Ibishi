{
 "cells": [
  {
   "cell_type": "code",
   "execution_count": 16,
   "metadata": {},
   "outputs": [
    {
     "name": "stdout",
     "output_type": "stream",
     "text": [
      "5.0\n"
     ]
    }
   ],
   "source": [
    "### 1. Pythagorean theorem (*) ###\n",
    "\n",
    "#  a)   A right angled triangle has the catheti: a = 3 and b = 4 length units. Compute the hypothenuse of the triangle. (*) \n",
    "\n",
    "a = 3\n",
    "b = 4\n",
    "\n",
    "import math\n",
    "hypotenusa = math.sqrt (a**2 + b**2)\n",
    "print (hypotenusa)\n",
    "\n",
    "#b)   A right angled triangle has hypothenuse c = 7.0 and a cathetus a = 5.0 length units. Compute the other cathetus and round to one decimal. (*)\n",
    "a = (5**2)\n",
    "c = (7**2)\n",
    "\n",
    "import math\n",
    "b = math.sqrt (c-a) \n",
    "print (f\"{b:.1f}\")\n"
   ]
  },
  {
   "cell_type": "code",
   "execution_count": 2,
   "metadata": {},
   "outputs": [
    {
     "name": "stdout",
     "output_type": "stream",
     "text": [
      "The accuracy of the model is 82.19%\n"
     ]
    }
   ],
   "source": [
    "\n",
    "### 2. Classification accuracy (*) ###\n",
    "\n",
    "# A machine learning algorithm has been trained to predict whether or not it would rain the next day. \n",
    "# Out of 365 predictions, it got 300 correct, compute the accuracy of this model.\n",
    "\n",
    "Total_predection = 365\n",
    "correct_predection = 300\n",
    "\n",
    "#hur man räknar ut exakthet\n",
    "accuracy = (correct_predection/Total_predection) * 100\n",
    "\n",
    "#print accuracy \n",
    "print (f\"The accuracy of the model is {accuracy:.2f}%\")\n",
    "\n",
    "\n"
   ]
  },
  {
   "cell_type": "code",
   "execution_count": null,
   "metadata": {},
   "outputs": [],
   "source": []
  }
 ],
 "metadata": {
  "kernelspec": {
   "display_name": "Python 3",
   "language": "python",
   "name": "python3"
  },
  "language_info": {
   "codemirror_mode": {
    "name": "ipython",
    "version": 3
   },
   "file_extension": ".py",
   "mimetype": "text/x-python",
   "name": "python",
   "nbconvert_exporter": "python",
   "pygments_lexer": "ipython3",
   "version": "3.12.5"
  }
 },
 "nbformat": 4,
 "nbformat_minor": 2
}
